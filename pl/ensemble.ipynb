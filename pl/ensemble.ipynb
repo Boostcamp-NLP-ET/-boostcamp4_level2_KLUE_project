{
 "cells": [
  {
   "cell_type": "code",
   "execution_count": null,
   "metadata": {},
   "outputs": [],
   "source": [
    "import pandas as pd\n",
    "import torch\n",
    "import torch.nn as nn\n",
    "import numpy as np\n",
    "from utils import *"
   ]
  },
  {
   "cell_type": "markdown",
   "metadata": {},
   "source": [
    "# Soft voting"
   ]
  },
  {
   "cell_type": "code",
   "execution_count": null,
   "metadata": {},
   "outputs": [],
   "source": [
    "def mul(lst):\n",
    "    return np.asarray(eval(lst))\n",
    "\n",
    "def tolist(txt):\n",
    "    return txt.tolist()"
   ]
  },
  {
   "cell_type": "code",
   "execution_count": null,
   "metadata": {},
   "outputs": [],
   "source": [
    "k = int(input()) # 앙상블 모델 개수 입력\n",
    "s = nn.Softmax()\n",
    "\n",
    "mod_pow = torch.tensor(list(map(float, input().split()))) # score 입력\n",
    "mod_pow = s(mod_pow)\n",
    "\n",
    "tmp = pd.DataFrame()\n",
    "output = pd.DataFrame()\n",
    "for i in range(k):\n",
    "    path = input().strip() # score csv 파일 경로 입력\n",
    "    data = pd.read_csv(path) \n",
    "    tmp[i] = data['probs'].apply(mul) * float(mod_pow[i])\n",
    "output['id'] = data['id']\n",
    "output['probs'] = np.sum(tmp, axis=1)\n",
    "pred = output['probs'].apply(np.argmax).tolist()\n",
    "pred_a = num_to_label(pred)\n",
    "output[\"pred_label\"] = pred_a\n",
    "output['probs'] = output['probs'].apply(tolist)\n",
    "output"
   ]
  },
  {
   "cell_type": "code",
   "execution_count": null,
   "metadata": {},
   "outputs": [],
   "source": [
    "output.to_csv('4e_submission.csv', index=False)"
   ]
  },
  {
   "cell_type": "markdown",
   "metadata": {},
   "source": [
    "# Hard voting"
   ]
  },
  {
   "cell_type": "code",
   "metadata": {},
   "source": [
    "roberta_df = pd.read_csv('/opt/ml/code/level2_klue_nlp-level1-nlp-12/pl/ensemble/result/roberta_ensemble_submission.csv')\n",
    "electra_df = pd.read_csv('/opt/ml/code/level2_klue_nlp-level1-nlp-12/pl/ensemble/result/electra_ensemble_test_submission3.csv')\n",
    "r_roberta_df = pd.read_csv('/opt/ml/code/level2_klue_nlp-level1-nlp-12/pl/ensemble/result/r_roberta_submission.csv')\n",
    "electra_roberta_r_roberta_df = pd.read_csv('/opt/ml/code/level2_klue_nlp-level1-nlp-12/pl/ensemble/result/electra_roberta_r_roberta_submission.csv')\n",
    "subm_df = pd.read_csv('/opt/ml/code/level2_klue_nlp-level1-nlp-12/pl/ensemble/subm.csv')\n",
    "bigbird_df = pd.read_csv('/opt/ml/code/level2_klue_nlp-level1-nlp-12/pl/ensemble/bibbird_cr_cs_od_submission(83.46).csv')\n",
    "bigbird_df2 = pd.read_csv('/opt/ml/code/level2_klue_nlp-level1-nlp-12/pl/ensemble/bigbird_ls_cs_od_submission(83.14).csv')"
   ]
  },
  {
   "cell_type": "code",
   "execution_count": null,
   "metadata": {},
   "outputs": [],
   "source": [
    "hard = pd.concat([roberta_df['pred_label'], \n",
    "                  electra_df['pred_label'],\n",
    "                  r_roberta_df['pred_label'], \n",
    "                  electra_roberta_r_roberta_df['pred_label'],\n",
    "                  subm_df['pred_label'], \n",
    "                  bigbird_df['pred_label'], \n",
    "                  bigbird_df['pred_label']], \n",
    "                 axis=1).mode(axis=1).iloc[:,0] # pred_label 최빈값\n",
    "\n",
    "e_r_rr_s_bb = pd.concat([electra_roberta_r_roberta_df.iloc[:,:2],hard], axis=1) \n",
    "e_r_rr_s_bb.columns = ['id', 'probs', 'pred_label']\n",
    "e_r_rr_s_bb"
   ]
  },
  {
   "cell_type": "code",
   "execution_count": null,
   "metadata": {},
   "outputs": [],
   "source": [
    "e_r_rr_s_bb.to_csv('e_r_rr_s_bb_hard_submission.csv', index=False)"
   ]
  }
 ],
 "metadata": {
  "language_info": {
   "name": "python"
  },
  "orig_nbformat": 4
 },
 "nbformat": 4,
 "nbformat_minor": 2
}
