{
 "cells": [
  {
   "cell_type": "markdown",
   "metadata": {},
   "source": [
    "# An Improved Baseline for Sentence-level Relation Extraction 구현\n"
   ]
  },
  {
   "cell_type": "code",
   "execution_count": 1,
   "metadata": {},
   "outputs": [
    {
     "name": "stderr",
     "output_type": "stream",
     "text": [
      "/opt/conda/envs/klue/lib/python3.8/site-packages/tqdm/auto.py:22: TqdmWarning: IProgress not found. Please update jupyter and ipywidgets. See https://ipywidgets.readthedocs.io/en/stable/user_install.html\n",
      "  from .autonotebook import tqdm as notebook_tqdm\n"
     ]
    }
   ],
   "source": [
    "import pandas as pd\n",
    "import transformers\n",
    "import torch\n",
    "import matplotlib.pyplot as plt\n",
    "import re\n",
    "from collections import Counter\n",
    "from itertools import combinations, permutations\n",
    "import pickle\n",
    "import numpy as np\n",
    "import hanja\n",
    "from hanja import hangul"
   ]
  },
  {
   "cell_type": "code",
   "execution_count": 2,
   "metadata": {},
   "outputs": [],
   "source": [
    "train_data = pd.read_csv('/opt/ml/dataset/train/train.csv')\n",
    "dev_data = pd.read_csv('/opt/ml/dataset/train/dev.csv')\n",
    "test_data = pd.read_csv('/opt/ml/dataset/test/test_data.csv')"
   ]
  },
  {
   "cell_type": "code",
   "execution_count": 3,
   "metadata": {},
   "outputs": [],
   "source": [
    "markers = {\n",
    "    'PER' : 'person',\n",
    "    'ORG' : 'organization',\n",
    "    'LOC' : 'location',\n",
    "    \"POH\" : 'occupation',\n",
    "    'NOH' : 'number',\n",
    "    'DAT' : 'date'\n",
    "}"
   ]
  },
  {
   "cell_type": "markdown",
   "metadata": {},
   "source": [
    "## Entity mask\n",
    "ex: [SUBJ-PERSON] was born in [OBJ-CITY]\\\n",
    "eval:\\\n",
    "micro f1 - 83.26461570990591\\\n",
    "auprc - 76.52407859243088\\\n",
    "inference:\\\n",
    "micro f1 - 40.2905\\\n",
    "auprc - 38.7714"
   ]
  },
  {
   "cell_type": "code",
   "execution_count": 12,
   "metadata": {},
   "outputs": [],
   "source": [
    "for i in range(len(train_data)):\n",
    "    sub_ent = eval(train_data.iloc[i, 2])\n",
    "    obj_ent = eval(train_data.iloc[i, 3])\n",
    "    train_data.iloc[i, 1] = train_data.iloc[i, 1].replace(sub_ent['word'], '[SUBJ-'+markers[sub_ent['type']].upper()+']')\n",
    "    train_data.iloc[i, 1] = train_data.iloc[i, 1].replace(obj_ent['word'], '[OBJ-'+markers[obj_ent['type']].upper()+']')\n"
   ]
  },
  {
   "cell_type": "code",
   "execution_count": 13,
   "metadata": {},
   "outputs": [
    {
     "data": {
      "text/html": [
       "<div>\n",
       "<style scoped>\n",
       "    .dataframe tbody tr th:only-of-type {\n",
       "        vertical-align: middle;\n",
       "    }\n",
       "\n",
       "    .dataframe tbody tr th {\n",
       "        vertical-align: top;\n",
       "    }\n",
       "\n",
       "    .dataframe thead th {\n",
       "        text-align: right;\n",
       "    }\n",
       "</style>\n",
       "<table border=\"1\" class=\"dataframe\">\n",
       "  <thead>\n",
       "    <tr style=\"text-align: right;\">\n",
       "      <th></th>\n",
       "      <th>id</th>\n",
       "      <th>sentence</th>\n",
       "      <th>subject_entity</th>\n",
       "      <th>object_entity</th>\n",
       "      <th>label</th>\n",
       "      <th>source</th>\n",
       "    </tr>\n",
       "  </thead>\n",
       "  <tbody>\n",
       "    <tr>\n",
       "      <th>0</th>\n",
       "      <td>24121</td>\n",
       "      <td>인천도시공사(사장 박인서)는 에너지절감 및 친환경 경영을 실천하고자 관용차량 일부를...</td>\n",
       "      <td>{'word': '한국GM', 'start_idx': 47, 'end_idx': 5...</td>\n",
       "      <td>{'word': '자동차', 'start_idx': 61, 'end_idx': 63...</td>\n",
       "      <td>org:product</td>\n",
       "      <td>wikitree</td>\n",
       "    </tr>\n",
       "    <tr>\n",
       "      <th>1</th>\n",
       "      <td>10907</td>\n",
       "      <td>[SUBJ-ORGANIZATION]은 7,000명의 보병부대와 [OBJ-NUMBER...</td>\n",
       "      <td>{'word': '스위스군', 'start_idx': 0, 'end_idx': 3,...</td>\n",
       "      <td>{'word': '2,000명', 'start_idx': 20, 'end_idx':...</td>\n",
       "      <td>no_relation</td>\n",
       "      <td>wikipedia</td>\n",
       "    </tr>\n",
       "    <tr>\n",
       "      <th>2</th>\n",
       "      <td>20809</td>\n",
       "      <td>2002년 [SUBJ-ORGANIZATION]에서 [OBJ-ORGANIZATION]...</td>\n",
       "      <td>{'word': '한빛은행', 'start_idx': 6, 'end_idx': 9,...</td>\n",
       "      <td>{'word': '우리은행', 'start_idx': 13, 'end_idx': 1...</td>\n",
       "      <td>org:alternate_names</td>\n",
       "      <td>wikipedia</td>\n",
       "    </tr>\n",
       "    <tr>\n",
       "      <th>3</th>\n",
       "      <td>18935</td>\n",
       "      <td>지난 10일 국회가 확정한 내년도 [SUBJ-ORGANIZATION] 정부예산을 보...</td>\n",
       "      <td>{'word': '여수시', 'start_idx': 66, 'end_idx': 68...</td>\n",
       "      <td>{'word': '1282억 원', 'start_idx': 52, 'end_idx'...</td>\n",
       "      <td>no_relation</td>\n",
       "      <td>wikitree</td>\n",
       "    </tr>\n",
       "    <tr>\n",
       "      <th>4</th>\n",
       "      <td>24880</td>\n",
       "      <td>가라스마 역은 일본 [OBJ-LOCATION] 교토시 시모교구에 있는 [SUBJ-O...</td>\n",
       "      <td>{'word': '한큐 전철', 'start_idx': 28, 'end_idx': ...</td>\n",
       "      <td>{'word': '교토부', 'start_idx': 11, 'end_idx': 13...</td>\n",
       "      <td>org:place_of_headquarters</td>\n",
       "      <td>wikipedia</td>\n",
       "    </tr>\n",
       "  </tbody>\n",
       "</table>\n",
       "</div>"
      ],
      "text/plain": [
       "      id                                           sentence  \\\n",
       "0  24121  인천도시공사(사장 박인서)는 에너지절감 및 친환경 경영을 실천하고자 관용차량 일부를...   \n",
       "1  10907  [SUBJ-ORGANIZATION]은 7,000명의 보병부대와 [OBJ-NUMBER...   \n",
       "2  20809  2002년 [SUBJ-ORGANIZATION]에서 [OBJ-ORGANIZATION]...   \n",
       "3  18935  지난 10일 국회가 확정한 내년도 [SUBJ-ORGANIZATION] 정부예산을 보...   \n",
       "4  24880  가라스마 역은 일본 [OBJ-LOCATION] 교토시 시모교구에 있는 [SUBJ-O...   \n",
       "\n",
       "                                      subject_entity  \\\n",
       "0  {'word': '한국GM', 'start_idx': 47, 'end_idx': 5...   \n",
       "1  {'word': '스위스군', 'start_idx': 0, 'end_idx': 3,...   \n",
       "2  {'word': '한빛은행', 'start_idx': 6, 'end_idx': 9,...   \n",
       "3  {'word': '여수시', 'start_idx': 66, 'end_idx': 68...   \n",
       "4  {'word': '한큐 전철', 'start_idx': 28, 'end_idx': ...   \n",
       "\n",
       "                                       object_entity  \\\n",
       "0  {'word': '자동차', 'start_idx': 61, 'end_idx': 63...   \n",
       "1  {'word': '2,000명', 'start_idx': 20, 'end_idx':...   \n",
       "2  {'word': '우리은행', 'start_idx': 13, 'end_idx': 1...   \n",
       "3  {'word': '1282억 원', 'start_idx': 52, 'end_idx'...   \n",
       "4  {'word': '교토부', 'start_idx': 11, 'end_idx': 13...   \n",
       "\n",
       "                       label     source  \n",
       "0                org:product   wikitree  \n",
       "1                no_relation  wikipedia  \n",
       "2        org:alternate_names  wikipedia  \n",
       "3                no_relation   wikitree  \n",
       "4  org:place_of_headquarters  wikipedia  "
      ]
     },
     "execution_count": 13,
     "metadata": {},
     "output_type": "execute_result"
    }
   ],
   "source": [
    "train_data.head()"
   ]
  },
  {
   "cell_type": "code",
   "execution_count": 17,
   "metadata": {},
   "outputs": [],
   "source": [
    "train_data.to_csv('../dataset/train/train_entity_mask.csv')"
   ]
  },
  {
   "cell_type": "code",
   "execution_count": 14,
   "metadata": {},
   "outputs": [],
   "source": [
    "for i in range(len(dev_data)):\n",
    "    sub_ent = eval(dev_data.iloc[i, 2])\n",
    "    obj_ent = eval(dev_data.iloc[i, 3])\n",
    "    dev_data.iloc[i, 1] = dev_data.iloc[i, 1].replace(sub_ent['word'], '[SUBJ-'+markers[sub_ent['type']].upper()+']')\n",
    "    dev_data.iloc[i, 1] = dev_data.iloc[i, 1].replace(obj_ent['word'], '[OBJ-'+markers[obj_ent['type']].upper()+']')"
   ]
  },
  {
   "cell_type": "code",
   "execution_count": 15,
   "metadata": {},
   "outputs": [
    {
     "data": {
      "text/html": [
       "<div>\n",
       "<style scoped>\n",
       "    .dataframe tbody tr th:only-of-type {\n",
       "        vertical-align: middle;\n",
       "    }\n",
       "\n",
       "    .dataframe tbody tr th {\n",
       "        vertical-align: top;\n",
       "    }\n",
       "\n",
       "    .dataframe thead th {\n",
       "        text-align: right;\n",
       "    }\n",
       "</style>\n",
       "<table border=\"1\" class=\"dataframe\">\n",
       "  <thead>\n",
       "    <tr style=\"text-align: right;\">\n",
       "      <th></th>\n",
       "      <th>id</th>\n",
       "      <th>sentence</th>\n",
       "      <th>subject_entity</th>\n",
       "      <th>object_entity</th>\n",
       "      <th>label</th>\n",
       "      <th>source</th>\n",
       "    </tr>\n",
       "  </thead>\n",
       "  <tbody>\n",
       "    <tr>\n",
       "      <th>0</th>\n",
       "      <td>17193</td>\n",
       "      <td>건설기술용역업자 사업수행능력(PQ) 세부평가기준 개정은 지난해 말 [SUBJ-ORG...</td>\n",
       "      <td>{'word': '국토교통부', 'start_idx': 37, 'end_idx': ...</td>\n",
       "      <td>{'word': '국토부', 'start_idx': 60, 'end_idx': 62...</td>\n",
       "      <td>org:alternate_names</td>\n",
       "      <td>wikitree</td>\n",
       "    </tr>\n",
       "    <tr>\n",
       "      <th>1</th>\n",
       "      <td>10580</td>\n",
       "      <td>그는 “특히 [OBJ-ORGANIZATION]은 다시 영업을 재개한 [SUBJ-OR...</td>\n",
       "      <td>{'word': '래미안', 'start_idx': 24, 'end_idx': 26...</td>\n",
       "      <td>{'word': '삼성물산', 'start_idx': 7, 'end_idx': 10...</td>\n",
       "      <td>no_relation</td>\n",
       "      <td>wikitree</td>\n",
       "    </tr>\n",
       "    <tr>\n",
       "      <th>2</th>\n",
       "      <td>7266</td>\n",
       "      <td>또 다른 경쟁사인 [OBJ-LOCATION] 글로벌 가전업체 [SUBJ-ORGANI...</td>\n",
       "      <td>{'word': '일렉트로룩스', 'start_idx': 23, 'end_idx':...</td>\n",
       "      <td>{'word': '스웨덴', 'start_idx': 10, 'end_idx': 12...</td>\n",
       "      <td>org:place_of_headquarters</td>\n",
       "      <td>wikitree</td>\n",
       "    </tr>\n",
       "    <tr>\n",
       "      <th>3</th>\n",
       "      <td>8388</td>\n",
       "      <td>[OBJ-DATE]년 2월, 황진성은 [SUBJ-ORGANIZATION]와 3년 재...</td>\n",
       "      <td>{'word': '포항 스틸러스', 'start_idx': 15, 'end_idx'...</td>\n",
       "      <td>{'word': '2008', 'start_idx': 0, 'end_idx': 3,...</td>\n",
       "      <td>no_relation</td>\n",
       "      <td>wikipedia</td>\n",
       "    </tr>\n",
       "    <tr>\n",
       "      <th>4</th>\n",
       "      <td>15116</td>\n",
       "      <td>[SUBJ-ORGANIZATION] 동구(청장 임택)가 '2020 기본복지 가이드라...</td>\n",
       "      <td>{'word': '광주시', 'start_idx': 0, 'end_idx': 2, ...</td>\n",
       "      <td>{'word': '13개', 'start_idx': 39, 'end_idx': 41...</td>\n",
       "      <td>org:number_of_employees/members</td>\n",
       "      <td>wikitree</td>\n",
       "    </tr>\n",
       "  </tbody>\n",
       "</table>\n",
       "</div>"
      ],
      "text/plain": [
       "      id                                           sentence  \\\n",
       "0  17193  건설기술용역업자 사업수행능력(PQ) 세부평가기준 개정은 지난해 말 [SUBJ-ORG...   \n",
       "1  10580  그는 “특히 [OBJ-ORGANIZATION]은 다시 영업을 재개한 [SUBJ-OR...   \n",
       "2   7266  또 다른 경쟁사인 [OBJ-LOCATION] 글로벌 가전업체 [SUBJ-ORGANI...   \n",
       "3   8388  [OBJ-DATE]년 2월, 황진성은 [SUBJ-ORGANIZATION]와 3년 재...   \n",
       "4  15116  [SUBJ-ORGANIZATION] 동구(청장 임택)가 '2020 기본복지 가이드라...   \n",
       "\n",
       "                                      subject_entity  \\\n",
       "0  {'word': '국토교통부', 'start_idx': 37, 'end_idx': ...   \n",
       "1  {'word': '래미안', 'start_idx': 24, 'end_idx': 26...   \n",
       "2  {'word': '일렉트로룩스', 'start_idx': 23, 'end_idx':...   \n",
       "3  {'word': '포항 스틸러스', 'start_idx': 15, 'end_idx'...   \n",
       "4  {'word': '광주시', 'start_idx': 0, 'end_idx': 2, ...   \n",
       "\n",
       "                                       object_entity  \\\n",
       "0  {'word': '국토부', 'start_idx': 60, 'end_idx': 62...   \n",
       "1  {'word': '삼성물산', 'start_idx': 7, 'end_idx': 10...   \n",
       "2  {'word': '스웨덴', 'start_idx': 10, 'end_idx': 12...   \n",
       "3  {'word': '2008', 'start_idx': 0, 'end_idx': 3,...   \n",
       "4  {'word': '13개', 'start_idx': 39, 'end_idx': 41...   \n",
       "\n",
       "                             label     source  \n",
       "0              org:alternate_names   wikitree  \n",
       "1                      no_relation   wikitree  \n",
       "2        org:place_of_headquarters   wikitree  \n",
       "3                      no_relation  wikipedia  \n",
       "4  org:number_of_employees/members   wikitree  "
      ]
     },
     "execution_count": 15,
     "metadata": {},
     "output_type": "execute_result"
    }
   ],
   "source": [
    "dev_data.head()"
   ]
  },
  {
   "cell_type": "code",
   "execution_count": 18,
   "metadata": {},
   "outputs": [],
   "source": [
    "dev_data.to_csv('../dataset/train/dev_entity_mask.csv')"
   ]
  },
  {
   "cell_type": "markdown",
   "metadata": {},
   "source": [
    "## Entity marker\n",
    "ex: [E1] Bill [/E1] was born in [E2] Seattle [/E2]\\\n",
    "eval:\\\n",
    "micro f1 - 82.55309926311227\\\n",
    "auprc - 75.95485253894314\\\n",
    "inference:\\\n",
    "micro f1 - 54.9873\t\\\n",
    "auprc - 53.3891"
   ]
  },
  {
   "cell_type": "code",
   "execution_count": 30,
   "metadata": {},
   "outputs": [],
   "source": [
    "for i in range(len(train_data)):\n",
    "    sub_ent = eval(train_data.iloc[i, 2])\n",
    "    obj_ent = eval(train_data.iloc[i, 3])\n",
    "    train_data.iloc[i, 1] = train_data.iloc[i, 1].replace(sub_ent['word'], '[E1] ' + sub_ent['word'] + '[/E1]')\n",
    "    train_data.iloc[i, 1] = train_data.iloc[i, 1].replace(obj_ent['word'], '[E2] ' + obj_ent['word'] + '[/E2]')"
   ]
  },
  {
   "cell_type": "code",
   "execution_count": 31,
   "metadata": {},
   "outputs": [],
   "source": [
    "train_data.to_csv('../dataset/train/train_entity_marker.csv')"
   ]
  },
  {
   "cell_type": "code",
   "execution_count": 32,
   "metadata": {},
   "outputs": [],
   "source": [
    "for i in range(len(dev_data)):\n",
    "    sub_ent = eval(dev_data.iloc[i, 2])\n",
    "    obj_ent = eval(dev_data.iloc[i, 3])\n",
    "    dev_data.iloc[i, 1] = dev_data.iloc[i, 1].replace(sub_ent['word'], '[E1] ' + sub_ent['word'] + '[/E1]')\n",
    "    dev_data.iloc[i, 1] = dev_data.iloc[i, 1].replace(obj_ent['word'], '[E2] ' + obj_ent['word'] + '[/E2]')"
   ]
  },
  {
   "cell_type": "code",
   "execution_count": 33,
   "metadata": {},
   "outputs": [],
   "source": [
    "dev_data.to_csv('../dataset/train/dev_entity_marker.csv')"
   ]
  },
  {
   "cell_type": "markdown",
   "metadata": {},
   "source": [
    "## Entity marker (punct)\n",
    "ex:  @ Bill @ was born in # Seattle #.\\\n",
    "eval:\\\n",
    "micro f1 - 82.97755883962779\\\n",
    "auprc - 75.15339575561447\\\n",
    "inference:\\\n",
    "micro f1 - 57.8795\t\\\n",
    "auprc - 58.1863"
   ]
  },
  {
   "cell_type": "code",
   "execution_count": 35,
   "metadata": {},
   "outputs": [],
   "source": [
    "for i in range(len(train_data)):\n",
    "    sub_ent = eval(train_data.iloc[i, 2])\n",
    "    obj_ent = eval(train_data.iloc[i, 3])\n",
    "    train_data.iloc[i, 1] = train_data.iloc[i, 1].replace(sub_ent['word'], '@ ' + sub_ent['word'] + ' @')\n",
    "    train_data.iloc[i, 1] = train_data.iloc[i, 1].replace(obj_ent['word'], '# ' + obj_ent['word'] + ' #')"
   ]
  },
  {
   "cell_type": "code",
   "execution_count": 36,
   "metadata": {},
   "outputs": [],
   "source": [
    "train_data.to_csv('../dataset/train/train_entity_marker_punc.csv')"
   ]
  },
  {
   "cell_type": "code",
   "execution_count": 37,
   "metadata": {},
   "outputs": [],
   "source": [
    "for i in range(len(dev_data)):\n",
    "    sub_ent = eval(dev_data.iloc[i, 2])\n",
    "    obj_ent = eval(dev_data.iloc[i, 3])\n",
    "    dev_data.iloc[i, 1] = dev_data.iloc[i, 1].replace(sub_ent['word'], '@ ' + sub_ent['word'] + ' @')\n",
    "    dev_data.iloc[i, 1] = dev_data.iloc[i, 1].replace(obj_ent['word'], '# ' + obj_ent['word'] + ' #')"
   ]
  },
  {
   "cell_type": "code",
   "execution_count": 38,
   "metadata": {},
   "outputs": [],
   "source": [
    "dev_data.to_csv('../dataset/train/dev_entity_marker_punc.csv')"
   ]
  },
  {
   "cell_type": "markdown",
   "metadata": {},
   "source": [
    "## Typed entity marker\n",
    "ex: <S:PERSON> Bill </S:PERSON> was born in <O:CITY> Seattle </O:CITY>.\\\n",
    "eval:\\\n",
    "micro f1 - 82.86281429201587\\\n",
    "auprc - 73.9305362530267\\\n",
    "inference:\\\n",
    "micro f1 - 56.4742\t\\\n",
    "auprc - 55.0037"
   ]
  },
  {
   "cell_type": "code",
   "execution_count": 40,
   "metadata": {},
   "outputs": [],
   "source": [
    "for i in range(len(train_data)):\n",
    "    sub_ent = eval(train_data.iloc[i, 2])\n",
    "    obj_ent = eval(train_data.iloc[i, 3])\n",
    "    train_data.iloc[i, 1] = train_data.iloc[i, 1].replace(sub_ent['word'], '<S:'+ markers[sub_ent['type']]+'>' + sub_ent['word']+'</S:'+markers[sub_ent['type']]+'>')\n",
    "    train_data.iloc[i, 1] = train_data.iloc[i, 1].replace(obj_ent['word'], '<O:'+ markers[obj_ent['type']]+'>' + obj_ent['word']+'</O:'+markers[obj_ent['type']]+'>')"
   ]
  },
  {
   "cell_type": "code",
   "execution_count": 41,
   "metadata": {},
   "outputs": [
    {
     "data": {
      "text/html": [
       "<div>\n",
       "<style scoped>\n",
       "    .dataframe tbody tr th:only-of-type {\n",
       "        vertical-align: middle;\n",
       "    }\n",
       "\n",
       "    .dataframe tbody tr th {\n",
       "        vertical-align: top;\n",
       "    }\n",
       "\n",
       "    .dataframe thead th {\n",
       "        text-align: right;\n",
       "    }\n",
       "</style>\n",
       "<table border=\"1\" class=\"dataframe\">\n",
       "  <thead>\n",
       "    <tr style=\"text-align: right;\">\n",
       "      <th></th>\n",
       "      <th>id</th>\n",
       "      <th>sentence</th>\n",
       "      <th>subject_entity</th>\n",
       "      <th>object_entity</th>\n",
       "      <th>label</th>\n",
       "      <th>source</th>\n",
       "    </tr>\n",
       "  </thead>\n",
       "  <tbody>\n",
       "    <tr>\n",
       "      <th>0</th>\n",
       "      <td>24121</td>\n",
       "      <td>인천도시공사(사장 박인서)는 에너지절감 및 친환경 경영을 실천하고자 관용차량 일부를...</td>\n",
       "      <td>{'word': '한국GM', 'start_idx': 47, 'end_idx': 5...</td>\n",
       "      <td>{'word': '자동차', 'start_idx': 61, 'end_idx': 63...</td>\n",
       "      <td>org:product</td>\n",
       "      <td>wikitree</td>\n",
       "    </tr>\n",
       "    <tr>\n",
       "      <th>1</th>\n",
       "      <td>10907</td>\n",
       "      <td>&lt;S:organization&gt;스위스군&lt;/S:organization&gt;은 7,000명의...</td>\n",
       "      <td>{'word': '스위스군', 'start_idx': 0, 'end_idx': 3,...</td>\n",
       "      <td>{'word': '2,000명', 'start_idx': 20, 'end_idx':...</td>\n",
       "      <td>no_relation</td>\n",
       "      <td>wikipedia</td>\n",
       "    </tr>\n",
       "    <tr>\n",
       "      <th>2</th>\n",
       "      <td>20809</td>\n",
       "      <td>2002년 &lt;S:organization&gt;한빛은행&lt;/S:organization&gt;에서 ...</td>\n",
       "      <td>{'word': '한빛은행', 'start_idx': 6, 'end_idx': 9,...</td>\n",
       "      <td>{'word': '우리은행', 'start_idx': 13, 'end_idx': 1...</td>\n",
       "      <td>org:alternate_names</td>\n",
       "      <td>wikipedia</td>\n",
       "    </tr>\n",
       "    <tr>\n",
       "      <th>3</th>\n",
       "      <td>18935</td>\n",
       "      <td>지난 10일 국회가 확정한 내년도 &lt;S:organization&gt;여수시&lt;/S:orga...</td>\n",
       "      <td>{'word': '여수시', 'start_idx': 66, 'end_idx': 68...</td>\n",
       "      <td>{'word': '1282억 원', 'start_idx': 52, 'end_idx'...</td>\n",
       "      <td>no_relation</td>\n",
       "      <td>wikitree</td>\n",
       "    </tr>\n",
       "    <tr>\n",
       "      <th>4</th>\n",
       "      <td>24880</td>\n",
       "      <td>가라스마 역은 일본 &lt;O:location&gt;교토부&lt;/O:location&gt; 교토시 시모...</td>\n",
       "      <td>{'word': '한큐 전철', 'start_idx': 28, 'end_idx': ...</td>\n",
       "      <td>{'word': '교토부', 'start_idx': 11, 'end_idx': 13...</td>\n",
       "      <td>org:place_of_headquarters</td>\n",
       "      <td>wikipedia</td>\n",
       "    </tr>\n",
       "  </tbody>\n",
       "</table>\n",
       "</div>"
      ],
      "text/plain": [
       "      id                                           sentence  \\\n",
       "0  24121  인천도시공사(사장 박인서)는 에너지절감 및 친환경 경영을 실천하고자 관용차량 일부를...   \n",
       "1  10907  <S:organization>스위스군</S:organization>은 7,000명의...   \n",
       "2  20809  2002년 <S:organization>한빛은행</S:organization>에서 ...   \n",
       "3  18935  지난 10일 국회가 확정한 내년도 <S:organization>여수시</S:orga...   \n",
       "4  24880  가라스마 역은 일본 <O:location>교토부</O:location> 교토시 시모...   \n",
       "\n",
       "                                      subject_entity  \\\n",
       "0  {'word': '한국GM', 'start_idx': 47, 'end_idx': 5...   \n",
       "1  {'word': '스위스군', 'start_idx': 0, 'end_idx': 3,...   \n",
       "2  {'word': '한빛은행', 'start_idx': 6, 'end_idx': 9,...   \n",
       "3  {'word': '여수시', 'start_idx': 66, 'end_idx': 68...   \n",
       "4  {'word': '한큐 전철', 'start_idx': 28, 'end_idx': ...   \n",
       "\n",
       "                                       object_entity  \\\n",
       "0  {'word': '자동차', 'start_idx': 61, 'end_idx': 63...   \n",
       "1  {'word': '2,000명', 'start_idx': 20, 'end_idx':...   \n",
       "2  {'word': '우리은행', 'start_idx': 13, 'end_idx': 1...   \n",
       "3  {'word': '1282억 원', 'start_idx': 52, 'end_idx'...   \n",
       "4  {'word': '교토부', 'start_idx': 11, 'end_idx': 13...   \n",
       "\n",
       "                       label     source  \n",
       "0                org:product   wikitree  \n",
       "1                no_relation  wikipedia  \n",
       "2        org:alternate_names  wikipedia  \n",
       "3                no_relation   wikitree  \n",
       "4  org:place_of_headquarters  wikipedia  "
      ]
     },
     "execution_count": 41,
     "metadata": {},
     "output_type": "execute_result"
    }
   ],
   "source": [
    "train_data.head()"
   ]
  },
  {
   "cell_type": "code",
   "execution_count": 42,
   "metadata": {},
   "outputs": [],
   "source": [
    "train_data.to_csv('../dataset/train/train_typed_entity_marker.csv')"
   ]
  },
  {
   "cell_type": "code",
   "execution_count": 43,
   "metadata": {},
   "outputs": [],
   "source": [
    "for i in range(len(dev_data)):\n",
    "    sub_ent = eval(dev_data.iloc[i, 2])\n",
    "    obj_ent = eval(dev_data.iloc[i, 3])\n",
    "    dev_data.iloc[i, 1] = dev_data.iloc[i, 1].replace(sub_ent['word'], '<S:'+ markers[sub_ent['type']]+'>' + sub_ent['word']+'</S:'+markers[sub_ent['type']]+'>')\n",
    "    dev_data.iloc[i, 1] = dev_data.iloc[i, 1].replace(obj_ent['word'], '<O:'+ markers[obj_ent['type']]+'>' + obj_ent['word']+'</O:'+markers[obj_ent['type']]+'>')"
   ]
  },
  {
   "cell_type": "code",
   "execution_count": 44,
   "metadata": {},
   "outputs": [],
   "source": [
    "dev_data.to_csv('../dataset/train/dev_typed_entity_marker.csv')"
   ]
  },
  {
   "cell_type": "markdown",
   "metadata": {},
   "source": [
    "## Typed entity marker (punct)\n",
    "ex: @ * person * Bill @ was born in # ∧ city ∧ Seattle #\n",
    "eval:\\\n",
    "micro f1 - 80.77239112571898\\\n",
    "auprc - 67.82235926263863\\\n",
    "inference:\\\n",
    "micro f1 - 58.1295\\\n",
    "auprc - 51.2219"
   ]
  },
  {
   "cell_type": "code",
   "execution_count": 4,
   "metadata": {},
   "outputs": [],
   "source": [
    "for i in range(len(train_data)):\n",
    "    sub_ent = eval(train_data.iloc[i, 2])\n",
    "    obj_ent = eval(train_data.iloc[i, 3])\n",
    "    train_data.iloc[i, 1] = train_data.iloc[i, 1].replace(sub_ent['word'], '@ * '+ markers[sub_ent['type']] + '*' + sub_ent['word']+'@')\n",
    "    train_data.iloc[i, 1] = train_data.iloc[i, 1].replace(obj_ent['word'], '# ^ '+ markers[obj_ent['type']] + '^' + obj_ent['word']+'#')\n"
   ]
  },
  {
   "cell_type": "code",
   "execution_count": 5,
   "metadata": {},
   "outputs": [
    {
     "data": {
      "text/html": [
       "<div>\n",
       "<style scoped>\n",
       "    .dataframe tbody tr th:only-of-type {\n",
       "        vertical-align: middle;\n",
       "    }\n",
       "\n",
       "    .dataframe tbody tr th {\n",
       "        vertical-align: top;\n",
       "    }\n",
       "\n",
       "    .dataframe thead th {\n",
       "        text-align: right;\n",
       "    }\n",
       "</style>\n",
       "<table border=\"1\" class=\"dataframe\">\n",
       "  <thead>\n",
       "    <tr style=\"text-align: right;\">\n",
       "      <th></th>\n",
       "      <th>id</th>\n",
       "      <th>sentence</th>\n",
       "      <th>subject_entity</th>\n",
       "      <th>object_entity</th>\n",
       "      <th>label</th>\n",
       "      <th>source</th>\n",
       "    </tr>\n",
       "  </thead>\n",
       "  <tbody>\n",
       "    <tr>\n",
       "      <th>0</th>\n",
       "      <td>24121</td>\n",
       "      <td>인천도시공사(사장 박인서)는 에너지절감 및 친환경 경영을 실천하고자 관용차량 일부를...</td>\n",
       "      <td>{'word': '한국GM', 'start_idx': 47, 'end_idx': 5...</td>\n",
       "      <td>{'word': '자동차', 'start_idx': 61, 'end_idx': 63...</td>\n",
       "      <td>org:product</td>\n",
       "      <td>wikitree</td>\n",
       "    </tr>\n",
       "    <tr>\n",
       "      <th>1</th>\n",
       "      <td>10907</td>\n",
       "      <td>@ * organization*스위스군@은 7,000명의 보병부대와 # ^ numb...</td>\n",
       "      <td>{'word': '스위스군', 'start_idx': 0, 'end_idx': 3,...</td>\n",
       "      <td>{'word': '2,000명', 'start_idx': 20, 'end_idx':...</td>\n",
       "      <td>no_relation</td>\n",
       "      <td>wikipedia</td>\n",
       "    </tr>\n",
       "    <tr>\n",
       "      <th>2</th>\n",
       "      <td>20809</td>\n",
       "      <td>2002년 @ * organization*한빛은행@에서 # ^ organizatio...</td>\n",
       "      <td>{'word': '한빛은행', 'start_idx': 6, 'end_idx': 9,...</td>\n",
       "      <td>{'word': '우리은행', 'start_idx': 13, 'end_idx': 1...</td>\n",
       "      <td>org:alternate_names</td>\n",
       "      <td>wikipedia</td>\n",
       "    </tr>\n",
       "    <tr>\n",
       "      <th>3</th>\n",
       "      <td>18935</td>\n",
       "      <td>지난 10일 국회가 확정한 내년도 @ * organization*여수시@ 정부예산을...</td>\n",
       "      <td>{'word': '여수시', 'start_idx': 66, 'end_idx': 68...</td>\n",
       "      <td>{'word': '1282억 원', 'start_idx': 52, 'end_idx'...</td>\n",
       "      <td>no_relation</td>\n",
       "      <td>wikitree</td>\n",
       "    </tr>\n",
       "    <tr>\n",
       "      <th>4</th>\n",
       "      <td>24880</td>\n",
       "      <td>가라스마 역은 일본 # ^ location^교토부# 교토시 시모교구에 있는 @ * ...</td>\n",
       "      <td>{'word': '한큐 전철', 'start_idx': 28, 'end_idx': ...</td>\n",
       "      <td>{'word': '교토부', 'start_idx': 11, 'end_idx': 13...</td>\n",
       "      <td>org:place_of_headquarters</td>\n",
       "      <td>wikipedia</td>\n",
       "    </tr>\n",
       "  </tbody>\n",
       "</table>\n",
       "</div>"
      ],
      "text/plain": [
       "      id                                           sentence  \\\n",
       "0  24121  인천도시공사(사장 박인서)는 에너지절감 및 친환경 경영을 실천하고자 관용차량 일부를...   \n",
       "1  10907  @ * organization*스위스군@은 7,000명의 보병부대와 # ^ numb...   \n",
       "2  20809  2002년 @ * organization*한빛은행@에서 # ^ organizatio...   \n",
       "3  18935  지난 10일 국회가 확정한 내년도 @ * organization*여수시@ 정부예산을...   \n",
       "4  24880  가라스마 역은 일본 # ^ location^교토부# 교토시 시모교구에 있는 @ * ...   \n",
       "\n",
       "                                      subject_entity  \\\n",
       "0  {'word': '한국GM', 'start_idx': 47, 'end_idx': 5...   \n",
       "1  {'word': '스위스군', 'start_idx': 0, 'end_idx': 3,...   \n",
       "2  {'word': '한빛은행', 'start_idx': 6, 'end_idx': 9,...   \n",
       "3  {'word': '여수시', 'start_idx': 66, 'end_idx': 68...   \n",
       "4  {'word': '한큐 전철', 'start_idx': 28, 'end_idx': ...   \n",
       "\n",
       "                                       object_entity  \\\n",
       "0  {'word': '자동차', 'start_idx': 61, 'end_idx': 63...   \n",
       "1  {'word': '2,000명', 'start_idx': 20, 'end_idx':...   \n",
       "2  {'word': '우리은행', 'start_idx': 13, 'end_idx': 1...   \n",
       "3  {'word': '1282억 원', 'start_idx': 52, 'end_idx'...   \n",
       "4  {'word': '교토부', 'start_idx': 11, 'end_idx': 13...   \n",
       "\n",
       "                       label     source  \n",
       "0                org:product   wikitree  \n",
       "1                no_relation  wikipedia  \n",
       "2        org:alternate_names  wikipedia  \n",
       "3                no_relation   wikitree  \n",
       "4  org:place_of_headquarters  wikipedia  "
      ]
     },
     "execution_count": 5,
     "metadata": {},
     "output_type": "execute_result"
    }
   ],
   "source": [
    "train_data.head()"
   ]
  },
  {
   "cell_type": "code",
   "execution_count": 6,
   "metadata": {},
   "outputs": [],
   "source": [
    "train_data.to_csv('../dataset/train/train_marker.csv')"
   ]
  },
  {
   "cell_type": "code",
   "execution_count": 7,
   "metadata": {},
   "outputs": [],
   "source": [
    "for i in range(len(test_data)):\n",
    "    sub_ent = eval(test_data.iloc[i, 2])\n",
    "    obj_ent = eval(test_data.iloc[i, 3])\n",
    "    test_data.iloc[i, 1] = test_data.iloc[i, 1].replace(sub_ent['word'], '@ * '+ markers[sub_ent['type']] + '*' + sub_ent['word']+'@')\n",
    "    test_data.iloc[i, 1] = test_data.iloc[i, 1].replace(obj_ent['word'], '# ^ '+ markers[obj_ent['type']] + '^' + obj_ent['word']+'#')"
   ]
  },
  {
   "cell_type": "code",
   "execution_count": 8,
   "metadata": {},
   "outputs": [],
   "source": [
    "for i in range(len(dev_data)):\n",
    "    sub_ent = eval(dev_data.iloc[i, 2])\n",
    "    obj_ent = eval(dev_data.iloc[i, 3])\n",
    "    dev_data.iloc[i, 1] = dev_data.iloc[i, 1].replace(sub_ent['word'], '@ * '+ markers[sub_ent['type']] + '*' + sub_ent['word']+'@')\n",
    "    dev_data.iloc[i, 1] = dev_data.iloc[i, 1].replace(obj_ent['word'], '# ^ '+ markers[obj_ent['type']] + '^' + obj_ent['word']+'#')"
   ]
  },
  {
   "cell_type": "code",
   "execution_count": 9,
   "metadata": {},
   "outputs": [
    {
     "data": {
      "text/html": [
       "<div>\n",
       "<style scoped>\n",
       "    .dataframe tbody tr th:only-of-type {\n",
       "        vertical-align: middle;\n",
       "    }\n",
       "\n",
       "    .dataframe tbody tr th {\n",
       "        vertical-align: top;\n",
       "    }\n",
       "\n",
       "    .dataframe thead th {\n",
       "        text-align: right;\n",
       "    }\n",
       "</style>\n",
       "<table border=\"1\" class=\"dataframe\">\n",
       "  <thead>\n",
       "    <tr style=\"text-align: right;\">\n",
       "      <th></th>\n",
       "      <th>id</th>\n",
       "      <th>sentence</th>\n",
       "      <th>subject_entity</th>\n",
       "      <th>object_entity</th>\n",
       "      <th>label</th>\n",
       "      <th>source</th>\n",
       "    </tr>\n",
       "  </thead>\n",
       "  <tbody>\n",
       "    <tr>\n",
       "      <th>0</th>\n",
       "      <td>0</td>\n",
       "      <td>지난 15일 @ * organization*MBC@ '# ^ organization...</td>\n",
       "      <td>{'word': 'MBC', 'start_idx': 7, 'end_idx': 9, ...</td>\n",
       "      <td>{'word': '탐사기획 스트레이트', 'start_idx': 12, 'end_i...</td>\n",
       "      <td>100</td>\n",
       "      <td>wikitree</td>\n",
       "    </tr>\n",
       "    <tr>\n",
       "      <th>1</th>\n",
       "      <td>1</td>\n",
       "      <td>사랑스러운 ‘@ * person*프린세스 프링@’의 이름은 봄의 # ^ occupa...</td>\n",
       "      <td>{'word': '프린세스 프링', 'start_idx': 7, 'end_idx':...</td>\n",
       "      <td>{'word': '공주', 'start_idx': 84, 'end_idx': 85,...</td>\n",
       "      <td>100</td>\n",
       "      <td>wikipedia</td>\n",
       "    </tr>\n",
       "    <tr>\n",
       "      <th>2</th>\n",
       "      <td>2</td>\n",
       "      <td>한편, 본인(이근안)을 모델로 한 MBC 특집드라마 가 # ^ date^1995년#...</td>\n",
       "      <td>{'word': '경찰', 'start_idx': 121, 'end_idx': 12...</td>\n",
       "      <td>{'word': '1995년', 'start_idx': 31, 'end_idx': ...</td>\n",
       "      <td>100</td>\n",
       "      <td>wikipedia</td>\n",
       "    </tr>\n",
       "    <tr>\n",
       "      <th>3</th>\n",
       "      <td>3</td>\n",
       "      <td># ^ person^정창손#은 김질과 같이 대궐로 달려가 고변하며 '신은 실로 모르...</td>\n",
       "      <td>{'word': '세조', 'start_idx': 78, 'end_idx': 79,...</td>\n",
       "      <td>{'word': '정창손', 'start_idx': 0, 'end_idx': 2, ...</td>\n",
       "      <td>100</td>\n",
       "      <td>wikipedia</td>\n",
       "    </tr>\n",
       "    <tr>\n",
       "      <th>4</th>\n",
       "      <td>4</td>\n",
       "      <td>당시 @ * organization*민주당@ 이진련 시의원은 # ^ person^권...</td>\n",
       "      <td>{'word': '민주당', 'start_idx': 3, 'end_idx': 5, ...</td>\n",
       "      <td>{'word': '권영진', 'start_idx': 16, 'end_idx': 18...</td>\n",
       "      <td>100</td>\n",
       "      <td>wikitree</td>\n",
       "    </tr>\n",
       "  </tbody>\n",
       "</table>\n",
       "</div>"
      ],
      "text/plain": [
       "   id                                           sentence  \\\n",
       "0   0  지난 15일 @ * organization*MBC@ '# ^ organization...   \n",
       "1   1  사랑스러운 ‘@ * person*프린세스 프링@’의 이름은 봄의 # ^ occupa...   \n",
       "2   2  한편, 본인(이근안)을 모델로 한 MBC 특집드라마 가 # ^ date^1995년#...   \n",
       "3   3  # ^ person^정창손#은 김질과 같이 대궐로 달려가 고변하며 '신은 실로 모르...   \n",
       "4   4  당시 @ * organization*민주당@ 이진련 시의원은 # ^ person^권...   \n",
       "\n",
       "                                      subject_entity  \\\n",
       "0  {'word': 'MBC', 'start_idx': 7, 'end_idx': 9, ...   \n",
       "1  {'word': '프린세스 프링', 'start_idx': 7, 'end_idx':...   \n",
       "2  {'word': '경찰', 'start_idx': 121, 'end_idx': 12...   \n",
       "3  {'word': '세조', 'start_idx': 78, 'end_idx': 79,...   \n",
       "4  {'word': '민주당', 'start_idx': 3, 'end_idx': 5, ...   \n",
       "\n",
       "                                       object_entity  label     source  \n",
       "0  {'word': '탐사기획 스트레이트', 'start_idx': 12, 'end_i...    100   wikitree  \n",
       "1  {'word': '공주', 'start_idx': 84, 'end_idx': 85,...    100  wikipedia  \n",
       "2  {'word': '1995년', 'start_idx': 31, 'end_idx': ...    100  wikipedia  \n",
       "3  {'word': '정창손', 'start_idx': 0, 'end_idx': 2, ...    100  wikipedia  \n",
       "4  {'word': '권영진', 'start_idx': 16, 'end_idx': 18...    100   wikitree  "
      ]
     },
     "execution_count": 9,
     "metadata": {},
     "output_type": "execute_result"
    }
   ],
   "source": [
    "test_data.head()"
   ]
  },
  {
   "cell_type": "code",
   "execution_count": 10,
   "metadata": {},
   "outputs": [],
   "source": [
    "dev_data.to_csv('../dataset/train/dev_markers.csv')"
   ]
  }
 ],
 "metadata": {
  "kernelspec": {
   "display_name": "Python 3.8.15 ('klue')",
   "language": "python",
   "name": "python3"
  },
  "language_info": {
   "codemirror_mode": {
    "name": "ipython",
    "version": 3
   },
   "file_extension": ".py",
   "mimetype": "text/x-python",
   "name": "python",
   "nbconvert_exporter": "python",
   "pygments_lexer": "ipython3",
   "version": "3.8.15"
  },
  "orig_nbformat": 4,
  "vscode": {
   "interpreter": {
    "hash": "cdf5d1a2b21d5315a0b7a0779e9f9212b6d3b593604d472f2d14684b88d9f7c0"
   }
  }
 },
 "nbformat": 4,
 "nbformat_minor": 2
}
